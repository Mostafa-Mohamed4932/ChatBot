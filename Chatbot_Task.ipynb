{
  "cells": [
    {
      "cell_type": "markdown",
      "source": [
        "#Building a chatbot"
      ],
      "metadata": {
        "id": "5PkXiAKXLx-s"
      }
    },
    {
      "cell_type": "markdown",
      "metadata": {
        "id": "p4miq3dRqsE0"
      },
      "source": [
        "#**Importing the necessary libraries**\n",
        "\n"
      ]
    },
    {
      "cell_type": "code",
      "execution_count": 65,
      "metadata": {
        "colab": {
          "base_uri": "https://localhost:8080/"
        },
        "id": "lxv-t-Gyfh5E",
        "outputId": "e7876e43-9fd3-4d0a-a348-a928f77bea16"
      },
      "outputs": [
        {
          "output_type": "execute_result",
          "data": {
            "text/plain": [
              "True"
            ]
          },
          "metadata": {},
          "execution_count": 65
        }
      ],
      "source": [
        "\n",
        "import io\n",
        "import random\n",
        "import string\n",
        "import warnings\n",
        "import numpy as np\n",
        "from sklearn.feature_extraction.text import TfidfVectorizer\n",
        "from sklearn.metrics.pairwise import cosine_similarity\n",
        "import warnings\n",
        "warnings.filterwarnings(\"ignore\")\n",
        "import nltk\n",
        "from nltk.stem import WordNetLemmatizer\n",
        "nltk.download(\"popular\", quiet=True)\n"
      ]
    },
    {
      "cell_type": "markdown",
      "metadata": {
        "id": "7sPiMz6tst1d"
      },
      "source": [
        "Access My Drive"
      ]
    },
    {
      "cell_type": "code",
      "execution_count": 66,
      "metadata": {
        "colab": {
          "base_uri": "https://localhost:8080/"
        },
        "id": "D4iNWYhthWst",
        "outputId": "1edfaaba-f70a-42cc-e7f1-b59d183368f3"
      },
      "outputs": [
        {
          "output_type": "stream",
          "name": "stdout",
          "text": [
            "Drive already mounted at /content/drive; to attempt to forcibly remount, call drive.mount(\"/content/drive\", force_remount=True).\n"
          ]
        }
      ],
      "source": [
        "\n",
        "from google.colab import drive\n",
        "drive.mount('/content/drive')"
      ]
    },
    {
      "cell_type": "markdown",
      "metadata": {
        "id": "cgnp4UkeslpP"
      },
      "source": [
        "**Reading the Data**"
      ]
    },
    {
      "cell_type": "code",
      "execution_count": 67,
      "metadata": {
        "id": "NLhk-0m9he7k"
      },
      "outputs": [],
      "source": [
        "f=open('/content/drive/MyDrive/sakr/Chatbot.txt',\"r\",errors = 'ignore')\n",
        "raw=f.read()\n",
        "raw = raw.lower()# converts to lowercase\n",
        "sent_tokens = nltk.sent_tokenize(raw) # converts to list of sentences\n",
        "word_tokens = nltk.word_tokenize(raw) # converts to list of words"
      ]
    },
    {
      "cell_type": "markdown",
      "metadata": {
        "id": "BwUofkDvs8t7"
      },
      "source": [
        "**Pre-processing the raw text**"
      ]
    },
    {
      "cell_type": "code",
      "execution_count": 68,
      "metadata": {
        "id": "HDiq3LPkh4FR"
      },
      "outputs": [],
      "source": [
        "lemmer = nltk.stem.WordNetLemmatizer()\n",
        "#WordNet is a semantically-oriented dictionary of English included in NLTK.\n",
        "def LemTokens(tokens):\n",
        "  return [lemmer.lemmatize(token) for token in tokens]\n",
        "remove_punct_dict = dict((ord(punct), None) for punct in string.punctuation)\n",
        "def LemNormalize(text):\n",
        "  return LemTokens(nltk.word_tokenize(text.lower().translate(remove_punct_dict)))"
      ]
    },
    {
      "cell_type": "markdown",
      "metadata": {
        "id": "bVrgiEgetKEj"
      },
      "source": [
        " **Keyword matching**\n",
        "\n"
      ]
    },
    {
      "cell_type": "code",
      "execution_count": 69,
      "metadata": {
        "id": "oDNwTsdBjpD_"
      },
      "outputs": [],
      "source": [
        "GREETING_INPUTS = ('hello', 'hi', 'greetings', 'sup', 'what’s up','hey','yo')\n",
        "GREETING_RESPONSES = ['hi', 'hey',  'hi there', 'hello', 'I am glad! You are talking to me']\n",
        "def greeting(sentence):\n",
        "  for word in sentence.split():\n",
        "    if word.lower() in GREETING_INPUTS:\n",
        "        return random.choice(GREETING_RESPONSES)"
      ]
    },
    {
      "cell_type": "markdown",
      "metadata": {
        "id": "NXGEw86ktX5a"
      },
      "source": [
        "**Generating a Response**\n"
      ]
    },
    {
      "cell_type": "code",
      "execution_count": 70,
      "metadata": {
        "id": "voEqW46iijuU"
      },
      "outputs": [],
      "source": [
        "def response(user_response):\n",
        "  spar_response=''\n",
        "  sent_tokens.append(user_response)\n",
        "  TfidfVec = TfidfVectorizer(tokenizer=LemNormalize, stop_words='english')\n",
        "  tfidf = TfidfVec.fit_transform(sent_tokens)\n",
        "  vals = cosine_similarity(tfidf[-1], tfidf)\n",
        "  idx=vals.argsort()[0][-2]\n",
        "  flat = vals.flatten()\n",
        "  flat.sort()\n",
        "  req_tfidf = flat[-2]\n",
        "  if(req_tfidf==0):\n",
        "    spar_response=spar_response+'I don’t understand you'\n",
        "    return spar_response\n",
        "  else:\n",
        "    spar_response = spar_response+sent_tokens[idx]\n",
        "    return spar_response"
      ]
    },
    {
      "cell_type": "code",
      "execution_count": 72,
      "metadata": {
        "colab": {
          "base_uri": "https://localhost:8080/"
        },
        "id": "R_n_gKFSi4KS",
        "outputId": "1832cf80-4b3e-4e73-cabc-1cd35f277018"
      },
      "outputs": [
        {
          "name": "stdout",
          "output_type": "stream",
          "text": [
            "Spar: My name is Spar. I will answer your queries about Chatbots. If you want to exit, type Bye!\n",
            "hi\n",
            "Spar: hi\n",
            "bye\n"
          ]
        }
      ],
      "source": [
        "# we want the Bot to say while starting and ending a conversation upon the user’s input.\n",
        "flag=True\n",
        "print('Spar: My name is Spar. I will answer your queries about Chatbots. If you want to exit, type Bye!')\n",
        "while(flag==True):\n",
        "  user_response = input()\n",
        "  user_response=user_response.lower()\n",
        "  if(user_response!='bye'):\n",
        "    if(user_response=='thanks' or user_response=='thank you' ):\n",
        "      flag=False\n",
        "      print('Spar: You are welcome..')\n",
        "    else:\n",
        "      if(greeting(user_response)!=None):\n",
        "        print('Spar: '+greeting(user_response))\n",
        "      else:\n",
        "        print('Spar: ',end='')\n",
        "        print(response(user_response))\n",
        "        sent_tokens.remove(user_response)\n",
        "  else:\n",
        "      flag=False"
      ]
    },
    {
      "cell_type": "code",
      "source": [],
      "metadata": {
        "id": "SbyIJ08HZlcq"
      },
      "execution_count": null,
      "outputs": []
    }
  ],
  "metadata": {
    "accelerator": "GPU",
    "colab": {
      "provenance": []
    },
    "kernelspec": {
      "display_name": "Python 3",
      "language": "python",
      "name": "python3"
    },
    "language_info": {
      "codemirror_mode": {
        "name": "ipython",
        "version": 3
      },
      "file_extension": ".py",
      "mimetype": "text/x-python",
      "name": "python",
      "nbconvert_exporter": "python",
      "pygments_lexer": "ipython3",
      "version": "3.8.10"
    }
  },
  "nbformat": 4,
  "nbformat_minor": 0
}